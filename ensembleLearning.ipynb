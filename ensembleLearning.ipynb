{
 "cells": [
  {
   "cell_type": "markdown",
   "metadata": {
    "collapsed": true,
    "pycharm": {
     "name": "#%% md\n"
    }
   },
   "source": [
    "1. Netflix Prize competition (ensemble learning)\n",
    "2. Three methods\n",
    "    1. bagging\n",
    "    2. boosting\n",
    "    3. stacking\n",
    "\n"
   ]
  },
  {
   "cell_type": "code",
   "execution_count": null,
   "outputs": [],
   "source": [
    "# toss a coin with 0.51 probability heads\n",
    "\n",
    "import numpy as np\n",
    "import matplotlib.pyplot as plt\n",
    "from sklearn.metrics import accuracy_score\n",
    "\n"
   ],
   "metadata": {
    "collapsed": false,
    "pycharm": {
     "name": "#%%\n"
    }
   }
  },
  {
   "cell_type": "markdown",
   "source": [
    "### Why ensemble can do better\n",
    "Suppose you build an ensemble containing 1,000 classifiers that are individ‐ ually correct only 51% of the time (barely better than random guessing). If you pre‐ dict the majority voted class, you can hope for up to 75% accuracy! However, this is only true if all classifiers are perfectly independent, making uncorrelated errors, which is clearly not the case since they\n",
    "are trained on the same data. They are likely to make the same\n",
    "types of errors, so there will be many majority votes for\n",
    "the wrong class, reducing the ensemble’s accuracy.\n",
    "\n"
   ],
   "metadata": {
    "collapsed": false,
    "pycharm": {
     "name": "#%% md\n"
    }
   }
  },
  {
   "cell_type": "code",
   "execution_count": null,
   "outputs": [],
   "source": [
    "from sklearn.ensemble import VotingClassifier, RandomForestClassifier\n",
    "from sklearn.linear_model import LogisticRegression\n",
    "from sklearn.svm import SVC"
   ],
   "metadata": {
    "collapsed": false,
    "pycharm": {
     "name": "#%%\n"
    }
   }
  },
  {
   "cell_type": "code",
   "execution_count": null,
   "outputs": [],
   "source": [
    "from sklearn.datasets import fetch_openml\n",
    "from sklearn.model_selection import train_test_split\n",
    "from sklearn.preprocessing import StandardScaler\n",
    "\n",
    "mnist = fetch_openml('mnist_784', version=1)\n",
    "mnist.keys()"
   ],
   "metadata": {
    "collapsed": false,
    "pycharm": {
     "name": "#%%\n"
    }
   }
  },
  {
   "cell_type": "code",
   "execution_count": null,
   "outputs": [],
   "source": [
    "X, y = mnist.data, mnist.target\n",
    "X_train, X_test, y_train, y_test = train_test_split(\n",
    "                                    X, y, test_size=0.2, random_state=42)\n",
    "print([a.shape for a in [X_train, X_test, y_train, y_test]])"
   ],
   "metadata": {
    "collapsed": false,
    "pycharm": {
     "name": "#%%\n"
    }
   }
  },
  {
   "cell_type": "code",
   "execution_count": null,
   "outputs": [],
   "source": [
    "scaler = StandardScaler()\n",
    "X_train = scaler.fit_transform(X_train.astype(np.float))\n",
    "X_test = scaler.fit_transform(X_test.astype(np.float))"
   ],
   "metadata": {
    "collapsed": false,
    "pycharm": {
     "name": "#%%\n"
    }
   }
  },
  {
   "cell_type": "code",
   "execution_count": null,
   "outputs": [],
   "source": [
    "log_clf = LogisticRegression()\n",
    "rnd_clf = RandomForestClassifier()\n",
    "svm_clf = SVC()\n",
    "\n",
    "voting_clf = VotingClassifier(\n",
    "            estimators=[('lr', log_clf), ('rf', rnd_clf), ('svc', svm_clf)],\n",
    "            voting='hard')\n",
    "\n",
    "voting_clf.fit(X_train, y_train)"
   ],
   "metadata": {
    "collapsed": false,
    "pycharm": {
     "name": "#%%\n"
    }
   }
  },
  {
   "cell_type": "code",
   "execution_count": null,
   "outputs": [],
   "source": [
    "\n",
    "for clf in (log_clf, rnd_clf, svm_clf, voting_clf):\n",
    "    clf.fit(X_train, y_train)\n",
    "    y_pred = clf.predict(X_test)\n",
    "    print(clf.__class__.__name__, accuracy_score(y_test, y_pred))"
   ],
   "metadata": {
    "collapsed": false,
    "pycharm": {
     "name": "#%%\n",
     "is_executing": true
    }
   }
  },
  {
   "cell_type": "markdown",
   "source": [
    "If all classifiers are able to estimate class probabilities (i.e., they have a\n",
    "pre dict_proba() method), then you can tell Scikit-Learn to predict the class\n",
    "with the highest class probability, averaged over all the individual classifiers.\n",
    "This is called soft voting. It often achieves higher performance than hard voting because it gives more weight to highly confident votes. All you need to do is replace voting=\"hard\" with voting=\"soft\" and ensure that all classifiers can estimate class probabilities.\n",
    "1. If ‘hard’, uses predicted class labels for majority rule voting.\n",
    "2. if ‘soft’, predicts the class label based on the argmax of the sums of the predicted probabilities, which is recommended for an ensemble of well-calibrated classifiers.\n",
    "\n",
    "\n",
    "### Bagging and pasting\n",
    "One way to get a diverse set of classifiers is to use very different training algorithms, as just discussed.\n",
    "Another approach is to use the same training algorithm for every predictor, but to train them on different random subsets of the training set.\n",
    "1. When sampling is performed with replacement, this method is called bagging1 (short for bootstrap aggregating2).\n",
    "2. When sampling is performed without replacement, it is called pasting.3\n",
    "\n",
    "Each individual predictor has a higher bias than if it were trained on the original training set, but aggregation reduces both bias and variance.4 Generally, the net result is that the ensemble has a similar bias but a lower variance than a single predictor trained on the original training set.\n",
    "\n",
    "#### How to plot decision boundary?\n",
    "#### what is out of bag probability: 63 vs 37?\n"
   ],
   "metadata": {
    "collapsed": false,
    "pycharm": {
     "name": "#%% md\n"
    }
   }
  },
  {
   "cell_type": "code",
   "execution_count": null,
   "outputs": [],
   "source": [
    "from sklearn.ensemble import BaggingClassifier\n",
    "from sklearn.tree import DecisionTreeClassifier"
   ],
   "metadata": {
    "collapsed": false,
    "pycharm": {
     "name": "#%%\n"
    }
   }
  },
  {
   "cell_type": "code",
   "execution_count": null,
   "outputs": [],
   "source": [
    "bag_clf = BaggingClassifier(\n",
    "    DecisionTreeClassifier(), n_estimators=100,\n",
    "    max_samples=1000, bootstrap=True, n_jobs=-1)\n",
    "\n",
    "bag_clf.fit(X_train, y_train)\n",
    "y_pred = bag_clf.predict(X_test)\n",
    "accuracy_score(y_true=y_test, y_pred=y_pred)\n"
   ],
   "metadata": {
    "collapsed": false,
    "pycharm": {
     "name": "#%%\n"
    }
   }
  },
  {
   "cell_type": "markdown",
   "source": [
    "With bagging, some instances may be sampled several times for any\n",
    "given predictor, while others may not be sampled at all.\n",
    "By default a BaggingClassifier samples m training instances with\n",
    "replacement (bootstrap=True), where m is the size of the training\n",
    "set. This means that only about 63% of the training instances are\n",
    "sampled on average for each predictor. The remaining 37% of\n",
    "the training instances that are not sampled are called out-of-bag\n",
    "(oob) instances. Note that they are not the same 37% for all predictors.\n",
    "\n",
    "Since a predictor never sees the oob instances during training, it\n",
    "can be evaluated on these instances, without the need for a\n",
    "separate validation set. You can evaluate the ensemble itself\n",
    "by averaging out the oob evaluations of each predictor."
   ],
   "metadata": {
    "collapsed": false,
    "pycharm": {
     "name": "#%% md\n"
    }
   }
  },
  {
   "cell_type": "code",
   "execution_count": null,
   "outputs": [],
   "source": [
    "bag_clf = BaggingClassifier(\n",
    "    DecisionTreeClassifier(), n_estimators=100,\n",
    "    bootstrap=True, n_jobs=4, oob_score=True)\n",
    "bag_clf.fit(X_train, y_train)\n",
    "bag_clf.oob_score_"
   ],
   "metadata": {
    "collapsed": false,
    "pycharm": {
     "name": "#%%\n"
    }
   }
  },
  {
   "cell_type": "markdown",
   "source": [
    "### Random Patches and Random Subspaces\n",
    "Sampling subfeatures instead of subset of training data.\n",
    "\n",
    "1. Sampling both training instances and features is called the Random Patches method.\n",
    "2. Keeping all training instances (i.e., bootstrap=False and max_sam ples=1.0) but sampling features (i.e., bootstrap_features=True and/or max_fea tures smaller than 1.0) is called the Random Subspaces method.\n",
    "\n",
    "\n",
    "### Random forest\n",
    "\n",
    "With a few exceptions, a RandomForestClassifier has all the hyperparameters of a DecisionTreeClassifier (to control how trees are grown), plus all the hyperpara‐ meters of a BaggingClassifier to control the ensemble itself.11\n",
    "\n",
    "The Random Forest algorithm introduces extra randomness when growing trees; instead of searching for the very best feature when splitting a node (see Chapter 6), it searches for the best feature among a random subset of features. This results in a greater tree diversity, which (once again) trades a higher bias for a lower variance, generally yielding an overall better model. The following BaggingClassifier is roughly equivalent to the previous RandomForestClassifier:"
   ],
   "metadata": {
    "collapsed": false,
    "pycharm": {
     "name": "#%% md\n"
    }
   }
  },
  {
   "cell_type": "code",
   "execution_count": 19,
   "outputs": [],
   "source": [
    "rnd_clf = RandomForestClassifier(n_estimators=500,\n",
    "                                 max_leaf_nodes=16,\n",
    "                                 n_jobs=-1,\n",
    "                                 max_samples=0.3,\n",
    "                                 max_features=0.5)\n",
    "rnd_clf.fit(X_train, y_train)\n",
    "\n",
    "y_pred = rnd_clf.predict(X_test)"
   ],
   "metadata": {
    "collapsed": false,
    "pycharm": {
     "name": "#%%\n"
    }
   }
  },
  {
   "cell_type": "code",
   "execution_count": 20,
   "outputs": [
    {
     "name": "stdout",
     "output_type": "stream",
     "text": [
      "0.6505714285714286\n"
     ]
    }
   ],
   "source": [
    "print(accuracy_score(y_true=y_test, y_pred=y_pred))"
   ],
   "metadata": {
    "collapsed": false,
    "pycharm": {
     "name": "#%%\n"
    }
   }
  },
  {
   "cell_type": "code",
   "execution_count": 21,
   "outputs": [
    {
     "data": {
      "text/plain": "<matplotlib.image.AxesImage at 0x7fe284e5a790>"
     },
     "execution_count": 21,
     "metadata": {},
     "output_type": "execute_result"
    },
    {
     "data": {
      "text/plain": "<Figure size 432x288 with 1 Axes>",
      "image/png": "[encoded data removed]"
     },
     "metadata": {
      "needs_background": "light"
     },
     "output_type": "display_data"
    }
   ],
   "source": [
    "importance = rnd_clf.feature_importances_\n",
    "importance = importance.reshape((28, 28))\n",
    "plt.imshow(importance)"
   ],
   "metadata": {
    "collapsed": false,
    "pycharm": {
     "name": "#%%\n"
    }
   }
  },
  {
   "cell_type": "code",
   "execution_count": null,
   "outputs": [],
   "source": [
    "#这个和random forest效果差不多\n",
    "\n",
    "bag_clf = BaggingClassifier(\n",
    "     DecisionTreeClassifier(splitter=\"random\", max_leaf_nodes=16),\n",
    "     n_estimators=500, max_samples=1.0, bootstrap=True, n_jobs=-1)\n"
   ],
   "metadata": {
    "collapsed": false,
    "pycharm": {
     "name": "#%%\n"
    }
   }
  },
  {
   "cell_type": "markdown",
   "source": [
    "### Feature Importance\n",
    "\n",
    "Yet another great quality of Random Forests is that they make it easy to measure the relative importance of each feature. Scikit-Learn measures a feature’s importance by looking at how much the tree nodes that use that feature reduce impurity on average (across all trees in the forest). More precisely, it is a weighted average, where each node’s weight is equal to the number of training samples that are associated with it"
   ],
   "metadata": {
    "collapsed": false,
    "pycharm": {
     "name": "#%% md\n"
    }
   }
  },
  {
   "cell_type": "code",
   "execution_count": 22,
   "outputs": [
    {
     "name": "stdout",
     "output_type": "stream",
     "text": [
      "sepal length (cm) 0.10483241230767104\n",
      "sepal width (cm) 0.02338246283660498\n",
      "petal length (cm) 0.4217346734134684\n",
      "petal width (cm) 0.45005045144225575\n"
     ]
    }
   ],
   "source": [
    "from sklearn.datasets import load_iris\n",
    "iris = load_iris()\n",
    "rnd_clf = RandomForestClassifier(n_estimators=500, n_jobs=-1)\n",
    "rnd_clf.fit(iris[\"data\"], iris[\"target\"])\n",
    "for name, score in zip(iris[\"feature_names\"], rnd_clf.feature_importances_):\n",
    "    print(name, score)"
   ],
   "metadata": {
    "collapsed": false,
    "pycharm": {
     "name": "#%%\n"
    }
   }
  },
  {
   "cell_type": "markdown",
   "source": [
    "### Extra-Trees\n",
    "\n",
    "Later"
   ],
   "metadata": {
    "collapsed": false,
    "pycharm": {
     "name": "#%% md\n"
    }
   }
  },
  {
   "cell_type": "markdown",
   "source": [
    "## Boosting\n",
    "\n",
    "Boosting (originally called hypothesis boosting) refers to any Ensemble method\n",
    "that can combine several weak learners into a strong learner. The general idea\n",
    "of most boosting methods is to train predictors sequentially, each trying to\n",
    "correct its predecessor.\n",
    "\n",
    "### AdaBoost (Adaptive Boosting)\n",
    "\n",
    "One way for a new predictor to correct its predecessor is to pay a bit more attention to the training instances that the predecessor underfitted. This results in new predic‐ tors focusing more and more on the hard cases.\n",
    "This is the technique used by Ada‐Boost. Once all predictors are trained, the ensemble makes predictions very much like bag‐ ging or pasting, except that predictors have different weights depending on their overall accuracy on the weighted training set.\n",
    "\n",
    "At the beginning, each instance (not predictor) weight $w_i$ is initially set to $\\frac{1}{m}$.\n",
    "A first predictor is trained and its weighted error rate $r_1$ is computed on\n",
    "the training set, see Equation\n",
    "\n",
    "$$r_j = \\frac{\\sum_{\\hat{y}_{j}^{(i)} \\neq y^{(i)}} w^{(i)}}{\\sum_i w^{(i)}}$$\n",
    "\n",
    "where $\\hat{y}_{j}^{(i)}$ is the j-th predictor’s prediction for the i-th instance.\n",
    "\n",
    "例如，如果第1个分类器有5个错，那$r_j=\\frac{5}{m}$.\n",
    "\n",
    "The predictor’s weight $\\alpha_j$ is then computed using Equation 7-2, where $\\eta$ is the\n",
    "learning rate hyperparameter (defaults to 1). The more accurate the predictor\n",
    "is, the higher its weight will be. If it is just guessing randomly, then its\n",
    "weight will be close to zero. However, if it is most often wrong (i.e., less\n",
    "accurate than random guessing), then its weight will be negative.\n",
    "\n",
    "$$\\alpha_{j}=\\eta \\log \\frac{1-r_{j}}{r_{j}}$$\n",
    "\n",
    "Next the instance weights are updated using Equation 7-3: the misclassified instances are boosted.\n",
    "\n",
    "\\begin{equation}\n",
    "w^{(i)} \\leftarrow\\left\\{\\begin{array}{ll}\n",
    "w^{(i)} & \\text { if } \\widehat{y}_{j}^{(i)}=y^{(i)} \\\\\n",
    "w^{(i)} \\exp \\left(\\alpha_{j}\\right) & \\text { if } \\widehat{y}_{j}^{(i)} \\neq y^{(i)}\n",
    "\\end{array}\\right.\n",
    "\\end{equation}\n",
    "\n",
    "如果这个分类分错了，在权重越大的分类器上分错了，增加的权重越多。那么Then all the instance weights are normalized (i.e., divided by $\\sum_{i=1}^{m} w^{(i)}$).\n",
    "\n",
    "Finally, a new predictor is trained using the updated weights, and the whole process is repeated (the new predictor’s weight is computed, the instance weights are updated, then another predictor is trained, and so on). The algorithm stops when the desired number of predictors is reached, or when a perfect predictor is found.\n",
    "\n",
    "To make predictions, AdaBoost simply computes the predictions of all the predictors and weighs them using the predictor weights $\\alpha_j$. The predicted class is the one that receives the majority of weighted votes\n",
    "\n",
    "\\begin{equation}\n",
    "\\hat{y}(\\mathbf{x})=\n",
    "\\underset{k}{\\operatorname{argmax}} \\sum_{j=1 \\atop \\hat{y}_j(\\mathbf{x})=k}^{N}  p_{jk}\\alpha_{j}\n",
    "\\end{equation},   where $N$ is the number of predictors."
   ],
   "metadata": {
    "collapsed": false,
    "pycharm": {
     "name": "#%% md\n"
    }
   }
  },
  {
   "cell_type": "code",
   "execution_count": null,
   "outputs": [],
   "source": [
    "from sklearn.tree import DecisionTreeClassifier\n",
    "from sklearn.ensemble import AdaBoostClassifier\n",
    "ada_clf = AdaBoostClassifier(\n",
    " DecisionTreeClassifier(max_depth=1), n_estimators=200,\n",
    " algorithm=\"SAMME.R\", learning_rate=0.5)\n",
    "ada_clf.fit(X_train, y_train)\n"
   ],
   "metadata": {
    "collapsed": false,
    "pycharm": {
     "name": "#%%\n"
    }
   }
  },
  {
   "cell_type": "markdown",
   "source": [
    "### Gradient Boosting.\n",
    "\n",
    "Gradient Boosting works by sequentially adding predictors to an ensemble, each one correcting its predecessor. However, instead of tweaking the instance weights at every iteration like AdaBoost does, this method tries to fit the new predictor to the residual errors made by the previous predictor."
   ],
   "metadata": {
    "collapsed": false,
    "pycharm": {
     "name": "#%% md\n"
    }
   }
  },
  {
   "cell_type": "code",
   "execution_count": 23,
   "outputs": [],
   "source": [
    "import pandas as pd\n",
    "from sklearn.impute import SimpleImputer"
   ],
   "metadata": {
    "collapsed": false,
    "pycharm": {
     "name": "#%%\n"
    }
   }
  },
  {
   "cell_type": "code",
   "execution_count": 24,
   "outputs": [
    {
     "name": "stdout",
     "output_type": "stream",
     "text": [
      "(20640, 10)\n"
     ]
    },
    {
     "data": {
      "text/plain": "   longitude  latitude  housing_median_age  total_rooms  total_bedrooms  \\\n0    -122.23     37.88                41.0        880.0           129.0   \n1    -122.22     37.86                21.0       7099.0          1106.0   \n2    -122.24     37.85                52.0       1467.0           190.0   \n3    -122.25     37.85                52.0       1274.0           235.0   \n4    -122.25     37.85                52.0       1627.0           280.0   \n\n   population  households  median_income  median_house_value ocean_proximity  \n0       322.0       126.0         8.3252            452600.0        NEAR BAY  \n1      2401.0      1138.0         8.3014            358500.0        NEAR BAY  \n2       496.0       177.0         7.2574            352100.0        NEAR BAY  \n3       558.0       219.0         5.6431            341300.0        NEAR BAY  \n4       565.0       259.0         3.8462            342200.0        NEAR BAY  ",
      "text/html": "<div>\n<style scoped>\n    .dataframe tbody tr th:only-of-type {\n        vertical-align: middle;\n    }\n\n    .dataframe tbody tr th {\n        vertical-align: top;\n    }\n\n    .dataframe thead th {\n        text-align: right;\n    }\n</style>\n<table border=\"1\" class=\"dataframe\">\n  <thead>\n    <tr style=\"text-align: right;\">\n      <th></th>\n      <th>longitude</th>\n      <th>latitude</th>\n      <th>housing_median_age</th>\n      <th>total_rooms</th>\n      <th>total_bedrooms</th>\n      <th>population</th>\n      <th>households</th>\n      <th>median_income</th>\n      <th>median_house_value</th>\n      <th>ocean_proximity</th>\n    </tr>\n  </thead>\n  <tbody>\n    <tr>\n      <th>0</th>\n      <td>-122.23</td>\n      <td>37.88</td>\n      <td>41.0</td>\n      <td>880.0</td>\n      <td>129.0</td>\n      <td>322.0</td>\n      <td>126.0</td>\n      <td>8.3252</td>\n      <td>452600.0</td>\n      <td>NEAR BAY</td>\n    </tr>\n    <tr>\n      <th>1</th>\n      <td>-122.22</td>\n      <td>37.86</td>\n      <td>21.0</td>\n      <td>7099.0</td>\n      <td>1106.0</td>\n      <td>2401.0</td>\n      <td>1138.0</td>\n      <td>8.3014</td>\n      <td>358500.0</td>\n      <td>NEAR BAY</td>\n    </tr>\n    <tr>\n      <th>2</th>\n      <td>-122.24</td>\n      <td>37.85</td>\n      <td>52.0</td>\n      <td>1467.0</td>\n      <td>190.0</td>\n      <td>496.0</td>\n      <td>177.0</td>\n      <td>7.2574</td>\n      <td>352100.0</td>\n      <td>NEAR BAY</td>\n    </tr>\n    <tr>\n      <th>3</th>\n      <td>-122.25</td>\n      <td>37.85</td>\n      <td>52.0</td>\n      <td>1274.0</td>\n      <td>235.0</td>\n      <td>558.0</td>\n      <td>219.0</td>\n      <td>5.6431</td>\n      <td>341300.0</td>\n      <td>NEAR BAY</td>\n    </tr>\n    <tr>\n      <th>4</th>\n      <td>-122.25</td>\n      <td>37.85</td>\n      <td>52.0</td>\n      <td>1627.0</td>\n      <td>280.0</td>\n      <td>565.0</td>\n      <td>259.0</td>\n      <td>3.8462</td>\n      <td>342200.0</td>\n      <td>NEAR BAY</td>\n    </tr>\n  </tbody>\n</table>\n</div>"
     },
     "execution_count": 24,
     "metadata": {},
     "output_type": "execute_result"
    }
   ],
   "source": [
    "housing = pd.read_csv(\"datasets/housing/housing.csv\")\n",
    "print(housing.shape)\n",
    "housing.head()"
   ],
   "metadata": {
    "collapsed": false,
    "pycharm": {
     "name": "#%%\n"
    }
   }
  },
  {
   "cell_type": "code",
   "execution_count": 25,
   "outputs": [],
   "source": [
    "y = housing['median_house_value'].to_numpy()\n",
    "X = housing.drop(['ocean_proximity', 'median_house_value'], axis=1)"
   ],
   "metadata": {
    "collapsed": false,
    "pycharm": {
     "name": "#%%\n"
    }
   }
  },
  {
   "cell_type": "code",
   "execution_count": 26,
   "outputs": [
    {
     "name": "stdout",
     "output_type": "stream",
     "text": [
      "(20640, 8) (20640,)\n"
     ]
    }
   ],
   "source": [
    "imputer = SimpleImputer(strategy=\"median\")\n",
    "X = imputer.fit_transform(X)\n",
    "X = scaler.fit_transform(X)\n",
    "print(X.shape, y.shape)\n"
   ],
   "metadata": {
    "collapsed": false,
    "pycharm": {
     "name": "#%%\n"
    }
   }
  },
  {
   "cell_type": "code",
   "execution_count": 27,
   "outputs": [],
   "source": [
    "X_train, X_test, y_train, y_test = train_test_split(\n",
    "            X, y, test_size=0.2, random_state=42)"
   ],
   "metadata": {
    "collapsed": false,
    "pycharm": {
     "name": "#%%\n"
    }
   }
  },
  {
   "cell_type": "code",
   "execution_count": 28,
   "outputs": [
    {
     "data": {
      "text/plain": "DecisionTreeRegressor(max_depth=2)"
     },
     "execution_count": 28,
     "metadata": {},
     "output_type": "execute_result"
    }
   ],
   "source": [
    "from sklearn.tree import DecisionTreeRegressor\n",
    "tree_reg1 = DecisionTreeRegressor(max_depth=2)\n",
    "tree_reg1.fit(X_train, y_train)"
   ],
   "metadata": {
    "collapsed": false,
    "pycharm": {
     "name": "#%%\n"
    }
   }
  },
  {
   "cell_type": "code",
   "execution_count": 29,
   "outputs": [
    {
     "data": {
      "text/plain": "DecisionTreeRegressor(max_depth=2)"
     },
     "execution_count": 29,
     "metadata": {},
     "output_type": "execute_result"
    }
   ],
   "source": [
    "# the second regressor on the residual error made by the first one\n",
    "\n",
    "y2 = y_train - tree_reg1.predict(X_train)\n",
    "tree_reg2 = DecisionTreeRegressor(max_depth=2)\n",
    "tree_reg2.fit(X_train, y2)\n"
   ],
   "metadata": {
    "collapsed": false,
    "pycharm": {
     "name": "#%%\n"
    }
   }
  },
  {
   "cell_type": "code",
   "execution_count": 30,
   "outputs": [
    {
     "data": {
      "text/plain": "DecisionTreeRegressor(max_depth=2)"
     },
     "execution_count": 30,
     "metadata": {},
     "output_type": "execute_result"
    }
   ],
   "source": [
    "# Then we train a third regressor on the residual errors made\n",
    "# by the second predictor:\n",
    "\n",
    "y3 = y2 - tree_reg2.predict(X_train)\n",
    "tree_reg3 = DecisionTreeRegressor(max_depth=2)\n",
    "tree_reg3.fit(X_train, y3)"
   ],
   "metadata": {
    "collapsed": false,
    "pycharm": {
     "name": "#%%\n"
    }
   }
  },
  {
   "cell_type": "code",
   "execution_count": 31,
   "outputs": [
    {
     "name": "stdout",
     "output_type": "stream",
     "text": [
      "[130860.53774343 130860.53774343 318596.14241791 ... 421288.09578806\n",
      " 130860.53774343 239261.54987149]\n"
     ]
    }
   ],
   "source": [
    "y_pred = sum(tree.predict(X_test) for tree in (tree_reg1, tree_reg2, tree_reg3))\n",
    "print(y_pred)"
   ],
   "metadata": {
    "collapsed": false,
    "pycharm": {
     "name": "#%%\n"
    }
   }
  },
  {
   "cell_type": "code",
   "execution_count": 32,
   "outputs": [
    {
     "data": {
      "text/plain": "77807.19671402498"
     },
     "execution_count": 32,
     "metadata": {},
     "output_type": "execute_result"
    }
   ],
   "source": [
    "from sklearn.metrics import mean_squared_error\n",
    "\n",
    "np.sqrt(mean_squared_error(y_test, y_pred))"
   ],
   "metadata": {
    "collapsed": false,
    "pycharm": {
     "name": "#%%\n"
    }
   }
  },
  {
   "cell_type": "code",
   "execution_count": 39,
   "outputs": [
    {
     "data": {
      "text/plain": "59593.7802452775"
     },
     "execution_count": 39,
     "metadata": {},
     "output_type": "execute_result"
    }
   ],
   "source": [
    "from sklearn.ensemble import GradientBoostingRegressor\n",
    "gbrt = GradientBoostingRegressor(max_depth=2, n_estimators=30, learning_rate=0.5)\n",
    "gbrt.fit(X_train, y_train)\n",
    "np.sqrt(mean_squared_error(y_test, gbrt.predict(X_test)))\n"
   ],
   "metadata": {
    "collapsed": false,
    "pycharm": {
     "name": "#%%\n"
    }
   }
  },
  {
   "cell_type": "markdown",
   "source": [
    "The learning_rate hyperparameter scales the contribution of each tree. If you set it to a low value, such as 0.1, you\n",
    "will need more trees in the ensemble to fit the train‐ ing set, but the predictions will usually\n",
    "generalize better. This is a regularization tech‐ nique called shrinkage.\n",
    "Figure 7-10 shows two GBRT ensembles trained with a low learning rate:\n",
    "the one on the left does not have enough trees to fit the training set,\n",
    "while the one on the right has too many trees and overfits the training set.\n"
   ],
   "metadata": {
    "collapsed": false
   }
  },
  {
   "cell_type": "code",
   "execution_count": 54,
   "outputs": [
    {
     "name": "stdout",
     "output_type": "stream",
     "text": [
      "(15480, 8) (5160, 8) (15480,) (5160,)\n"
     ]
    }
   ],
   "source": [
    "# Early stopping\n",
    "import numpy as np\n",
    "from sklearn.model_selection import train_test_split\n",
    "from sklearn.metrics import mean_squared_error\n",
    "\n",
    "X_train, X_val, y_train, y_val = train_test_split(X, y)\n",
    "print(X_train.shape, X_val.shape, y_train.shape, y_val.shape)"
   ],
   "metadata": {
    "collapsed": false,
    "pycharm": {
     "name": "#%%\n"
    }
   }
  },
  {
   "cell_type": "code",
   "execution_count": 78,
   "outputs": [
    {
     "data": {
      "text/plain": "GradientBoostingRegressor(max_depth=8, n_estimators=200)"
     },
     "execution_count": 78,
     "metadata": {},
     "output_type": "execute_result"
    }
   ],
   "source": [
    "gbrt = GradientBoostingRegressor(max_depth=8, n_estimators=200)\n",
    "gbrt.fit(X_train, y_train)\n"
   ],
   "metadata": {
    "collapsed": false,
    "pycharm": {
     "name": "#%%\n"
    }
   }
  },
  {
   "cell_type": "code",
   "execution_count": 79,
   "outputs": [
    {
     "name": "stdout",
     "output_type": "stream",
     "text": [
      "162\n"
     ]
    },
    {
     "data": {
      "text/plain": "[<matplotlib.lines.Line2D at 0x7fe26ea21a60>]"
     },
     "execution_count": 79,
     "metadata": {},
     "output_type": "execute_result"
    },
    {
     "data": {
      "text/plain": "<Figure size 432x288 with 1 Axes>",
      "image/png": "[encoded data removed]"
     },
     "metadata": {
      "needs_background": "light"
     },
     "output_type": "display_data"
    }
   ],
   "source": [
    "errors = [np.sqrt(mean_squared_error(y_val, y_pred)) for y_pred in gbrt.staged_predict(X_val)]\n",
    "bst_n_estimators = np.argmin(errors)#%%\n",
    "\n",
    "gbrt_best = GradientBoostingRegressor(max_depth=2,n_estimators=bst_n_estimators)\n",
    "gbrt_best.fit(X_train, y_train)\n",
    "print(bst_n_estimators)\n",
    "plt.plot(range(len(errors)), errors, 'b-')\n",
    "\n"
   ],
   "metadata": {
    "collapsed": false,
    "pycharm": {
     "name": "#%%\n"
    }
   }
  },
  {
   "cell_type": "code",
   "execution_count": null,
   "outputs": [],
   "source": [
    "gbrt = GradientBoostingRegressor(max_depth=2, warm_start=True)\n",
    "min_val_error = float(\"inf\")\n",
    "error_going_up = 0\n",
    "for n_estimators in range(1, 120):\n",
    "gbrt.n_estimators = n_estimators\n",
    "gbrt.fit(X_train, y_train)\n",
    "y_pred = gbrt.predict(X_val)\n",
    "val_error = mean_squared_error(y_val, y_pred) if val_error < min_val_error:\n",
    "            min_val_error = val_error\n",
    "error_going_up = 0 else:\n",
    "error_going_up += 1\n",
    "if error_going_up == 5:\n",
    "break # early stopping"
   ],
   "metadata": {
    "collapsed": false,
    "pycharm": {
     "name": "#%%\n"
    }
   }
  },
  {
   "cell_type": "markdown",
   "source": [
    "The GradientBoostingRegressor class also supports a subsample hyperparameter,\n",
    "which specifies the fraction of training instances to be used for training\n",
    "each tree. For example, if subsample=0.25, then each tree is trained on 25%\n",
    "of the training instan‐ ces, selected randomly. As you can probably guess\n",
    "by now, this trades a higher bias for a lower variance. It also speeds\n",
    "up training considerably. This technique is called Stochastic Gradient\n",
    "Boosting.\n"
   ],
   "metadata": {
    "collapsed": false,
    "pycharm": {
     "name": "#%% md\n"
    }
   }
  },
  {
   "cell_type": "markdown",
   "source": [
    "It is worth noting that an optimized implementation of Gradient Boosting\n",
    "is available in the popular python library XGBoost, which stands for Extreme\n",
    "Gradient Boosting. This package was initially developed by Tianqi Chen as\n",
    "part of the Distributed (Deep) Machine Learning Community (DMLC), and it\n",
    "aims at being extremely fast, scalable and portable. In fact, XGBoost\n",
    "is often an important component of the winning entries in ML competitions.\n",
    "XGBoost’s API is quite similar to Scikit-Learn’s:"
   ],
   "metadata": {
    "collapsed": false,
    "pycharm": {
     "name": "#%% md\n"
    }
   }
  },
  {
   "cell_type": "code",
   "execution_count": 83,
   "outputs": [
    {
     "name": "stdout",
     "output_type": "stream",
     "text": [
      "usage: conda install [-h] [--revision REVISION] [-n ENVIRONMENT | -p PATH]\r\n",
      "                     [-c CHANNEL] [--use-local] [--override-channels]\r\n",
      "                     [--repodata-fn REPODATA_FNS] [--strict-channel-priority]\r\n",
      "                     [--no-channel-priority] [--no-deps | --only-deps]\r\n",
      "                     [--no-pin] [--copy] [-C] [-k] [--offline] [-d] [--json]\r\n",
      "                     [-q] [-v] [-y] [--download-only] [--show-channel-urls]\r\n",
      "                     [--file FILE] [--force-reinstall]\r\n",
      "                     [--freeze-installed | --update-deps | -S | --update-all | --update-specs]\r\n",
      "                     [-m] [--clobber] [--dev]\r\n",
      "                     [package_spec [package_spec ...]]\r\n",
      "conda install: error: argument -c/--channel: expected one argument\r\n"
     ]
    }
   ],
   "source": [
    "! conda install -c -y conda-forge xgboost"
   ],
   "metadata": {
    "collapsed": false,
    "pycharm": {
     "name": "#%%\n"
    }
   }
  },
  {
   "cell_type": "code",
   "execution_count": 84,
   "outputs": [],
   "source": [
    "import xgboost\n",
    "xgb_reg = xgboost.XGBRegressor()\n",
    "xgb_reg.fit(X_train, y_train)\n",
    "y_pred = xgb_reg.predict(X_val)"
   ],
   "metadata": {
    "collapsed": false,
    "pycharm": {
     "name": "#%%\n"
    }
   }
  },
  {
   "cell_type": "code",
   "execution_count": 85,
   "outputs": [
    {
     "name": "stdout",
     "output_type": "stream",
     "text": [
      "[0]\tvalidation_0-rmse:173049.51562\n",
      "[1]\tvalidation_0-rmse:130653.92188\n",
      "[2]\tvalidation_0-rmse:102304.36719\n",
      "[3]\tvalidation_0-rmse:84829.88281\n",
      "[4]\tvalidation_0-rmse:73296.75000\n",
      "[5]\tvalidation_0-rmse:66490.70312\n",
      "[6]\tvalidation_0-rmse:62210.29688\n",
      "[7]\tvalidation_0-rmse:59900.10547\n",
      "[8]\tvalidation_0-rmse:57965.00391\n",
      "[9]\tvalidation_0-rmse:56495.08594\n",
      "[10]\tvalidation_0-rmse:55466.91406\n",
      "[11]\tvalidation_0-rmse:53366.54297\n",
      "[12]\tvalidation_0-rmse:52798.69141\n",
      "[13]\tvalidation_0-rmse:52339.94922\n",
      "[14]\tvalidation_0-rmse:51990.00391\n",
      "[15]\tvalidation_0-rmse:51933.79688\n",
      "[16]\tvalidation_0-rmse:51338.07812\n",
      "[17]\tvalidation_0-rmse:51068.67188\n",
      "[18]\tvalidation_0-rmse:51001.62891\n",
      "[19]\tvalidation_0-rmse:50734.23828\n",
      "[20]\tvalidation_0-rmse:50434.51172\n",
      "[21]\tvalidation_0-rmse:50376.27344\n",
      "[22]\tvalidation_0-rmse:50210.96484\n",
      "[23]\tvalidation_0-rmse:50111.66406\n",
      "[24]\tvalidation_0-rmse:49815.51172\n",
      "[25]\tvalidation_0-rmse:49629.18750\n",
      "[26]\tvalidation_0-rmse:49634.97266\n",
      "[27]\tvalidation_0-rmse:49637.30859\n"
     ]
    }
   ],
   "source": [
    "# XGBoost also offers several nice features, such as automatically taking care of early stopping:\n",
    "xgb_reg.fit(X_train, y_train,\n",
    "            eval_set=[(X_val, y_val)], early_stopping_rounds=2)\n",
    "y_pred = xgb_reg.predict(X_val)\n"
   ],
   "metadata": {
    "collapsed": false,
    "pycharm": {
     "name": "#%%\n"
    }
   }
  },
  {
   "cell_type": "markdown",
   "source": [
    "### Stacking\n",
    "The last Ensemble method we will discuss in this chapter is called stacking\n",
    "(short for stacked generalization).18 It is based on a simple idea: instead\n",
    "of using trivial functions (such as hard voting) to aggregate the predictions\n",
    "of all predictors in an ensemble, why don’t we train a model to perform this\n",
    "aggregation? Figure 7-12 shows such an ensemble performing a regression\n",
    "task on a new instance. Each of the bottom three predictors predicts a\n",
    "different value (3.1, 2.7, and 2.9), and then the final predictor (called\n",
    "a blender, or a meta learner) takes these predictions as inputs and\n",
    "makes the final prediction (3.0)."
   ],
   "metadata": {
    "collapsed": false,
    "pycharm": {
     "name": "#%% md\n"
    }
   }
  },
  {
   "cell_type": "code",
   "execution_count": null,
   "outputs": [],
   "source": [],
   "metadata": {
    "collapsed": false,
    "pycharm": {
     "name": "#%%\n"
    }
   }
  }
 ],
 "metadata": {
  "kernelspec": {
   "display_name": "Python 3",
   "language": "python",
   "name": "python3"
  },
  "language_info": {
   "codemirror_mode": {
    "name": "ipython",
    "version": 2
   },
   "file_extension": ".py",
   "mimetype": "text/x-python",
   "name": "python",
   "nbconvert_exporter": "python",
   "pygments_lexer": "ipython2",
   "version": "2.7.6"
  }
 },
 "nbformat": 4,
 "nbformat_minor": 0
}